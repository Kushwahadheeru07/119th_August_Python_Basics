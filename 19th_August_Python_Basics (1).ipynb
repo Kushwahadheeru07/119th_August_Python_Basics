{
 "cells": [
  {
   "cell_type": "markdown",
   "id": "3097e21c",
   "metadata": {},
   "source": [
    "# Topic:- Python Basics Variable"
   ]
  },
  {
   "cell_type": "markdown",
   "id": "8287d78d",
   "metadata": {},
   "source": [
    "1.Decleare two variable, 'x' and 'y', and assign them integer values. Swap the variable of these variable without using any temporary variable"
   ]
  },
  {
   "cell_type": "code",
   "execution_count": 8,
   "id": "3a436841",
   "metadata": {},
   "outputs": [],
   "source": [
    "x=12##value assigning to a\n",
    "y=45##value assigning to b"
   ]
  },
  {
   "cell_type": "code",
   "execution_count": 9,
   "id": "c49585a5",
   "metadata": {},
   "outputs": [
    {
     "name": "stdout",
     "output_type": "stream",
     "text": [
      "After Swapping A Variable:\n",
      "value Of X after Swapping: 45\n",
      "value Of y after Swapping: 12\n"
     ]
    }
   ],
   "source": [
    "x=x+y##addding both varable x and y i.e(57)\n",
    "y=x-y##subtracting x with y and store result in y (12)\n",
    "x=x-y##subtracting x with y and store result in y (45)\n",
    "print(\"After Swapping A Variable:\")\n",
    "print(\"value Of X after Swapping:\",x)\n",
    "print(\"value Of y after Swapping:\",y)"
   ]
  },
  {
   "cell_type": "markdown",
   "id": "9dff432a",
   "metadata": {},
   "source": [
    "2.Create a program that calculate the area of a rectangle.Take the length and width as input from the user aand store them in variables.\n",
    "Calculate and display the area."
   ]
  },
  {
   "cell_type": "code",
   "execution_count": 11,
   "id": "3bde9f53",
   "metadata": {},
   "outputs": [
    {
     "name": "stdout",
     "output_type": "stream",
     "text": [
      "Enter a length of a rectangle:23\n",
      "Enter a width of a rectangle:23\n",
      "Display Area: 92\n"
     ]
    }
   ],
   "source": [
    "##taking input from user and storing from x and y\n",
    "x=int(input(\"Enter a length of a rectangle:\"))\n",
    "y=int(input(\"Enter a width of a rectangle:\"))\n",
    "Area=2*(x+y)\n",
    "print(\"Display Area:\",Area)\n",
    "\n"
   ]
  },
  {
   "cell_type": "markdown",
   "id": "b93df027",
   "metadata": {},
   "source": [
    "3.Write a Python program that converts temperature from Celsius to Fahrenheit. Take the temperature in Celcius as input , store it in a variable, convert it to Fahrenheit, and display the result."
   ]
  },
  {
   "cell_type": "code",
   "execution_count": 16,
   "id": "da61b743",
   "metadata": {},
   "outputs": [
    {
     "name": "stdout",
     "output_type": "stream",
     "text": [
      "Enter a temperature from celsius:32\n",
      "Display Fahrenhiet 89.6\n"
     ]
    }
   ],
   "source": [
    "Temperature_in_Celsius=int(input(\"Enter a temperature from celsius:\"))\n",
    "Fahrenhiet=(Temperature_in_Celsius*(9/5))+32\n",
    "print(\"Display Fahrenhiet\",Fahrenhiet)"
   ]
  },
  {
   "cell_type": "markdown",
   "id": "fc0f9361",
   "metadata": {},
   "source": [
    "# TOPIC: String Based Question"
   ]
  },
  {
   "cell_type": "markdown",
   "id": "753fbb58",
   "metadata": {},
   "source": [
    "1.Write a python program that takes a string as input and prints the length of the string."
   ]
  },
  {
   "cell_type": "code",
   "execution_count": 22,
   "id": "62ab7d36",
   "metadata": {},
   "outputs": [
    {
     "name": "stdout",
     "output_type": "stream",
     "text": [
      "Enter a string:this is dheeredre\n",
      "Length of string: 17\n"
     ]
    }
   ],
   "source": [
    "string=input(\"Enter a string:\")\n",
    "##calculating a length of that string\n",
    "length=len(string)\n",
    "print(\"Length of string:\",length)"
   ]
  },
  {
   "cell_type": "markdown",
   "id": "8d28d191",
   "metadata": {},
   "source": [
    "2.Create a program that takes a sentence from the user and counts the number of vowels(a,e,i,o,u) in the string."
   ]
  },
  {
   "cell_type": "code",
   "execution_count": 31,
   "id": "91f71bbd",
   "metadata": {},
   "outputs": [
    {
     "name": "stdout",
     "output_type": "stream",
     "text": [
      "Enter a sentence:this is dheerendra\n",
      "6\n"
     ]
    }
   ],
   "source": [
    "sentence=input(\"Enter a sentence:\")\n",
    "vowel_count=0\n",
    "user_sentence=sentence.lower()\n",
    "vowel=['a','e','i','o','u']\n",
    "for a in user_sentence:\n",
    "    if a in vowel:\n",
    "        vowel_count+=1\n",
    "    \n",
    "    \n",
    "print(vowel_count)"
   ]
  },
  {
   "cell_type": "markdown",
   "id": "f3c27d42",
   "metadata": {},
   "source": [
    "3.Given a string ,reverse the order of characters using string slicing and print the reversed string"
   ]
  },
  {
   "cell_type": "code",
   "execution_count": 33,
   "id": "df133d7e",
   "metadata": {},
   "outputs": [
    {
     "name": "stdout",
     "output_type": "stream",
     "text": [
      "gnirts desrever eht tnirp dna gnicils gnirts gnisu sretcarahc fo redro eht esrever\n"
     ]
    }
   ],
   "source": [
    "string=\"reverse the order of characters using string slicing and print the reversed string\"\n",
    "Reversed=string[::-1]\n",
    "print(Reversed)"
   ]
  },
  {
   "cell_type": "markdown",
   "id": "36204f67",
   "metadata": {},
   "source": [
    "4.Write a program that takes a string as input and checks if it is a palindrome(reads the same forward and backward)"
   ]
  },
  {
   "cell_type": "code",
   "execution_count": 39,
   "id": "009e4d72",
   "metadata": {},
   "outputs": [
    {
     "name": "stdout",
     "output_type": "stream",
     "text": [
      "Enter a string:mom\n",
      "Its a pallindrome\n"
     ]
    }
   ],
   "source": [
    "user_input=input(\"Enter a string:\")\n",
    "cleaned_userinput=user_input.replace(' ','').lower()\n",
    "if cleaned_userinput==cleaned_userinput[::-1]:\n",
    "    print(\"Its a pallindrome\")\n",
    "    \n",
    "else:\n",
    "    print(\"Not, pallindrome\")"
   ]
  },
  {
   "cell_type": "markdown",
   "id": "3afea465",
   "metadata": {},
   "source": [
    " 5.Create a program that takes a string as input and removes all the spaces from it. Print the modified string without spaces."
   ]
  },
  {
   "cell_type": "code",
   "execution_count": 40,
   "id": "e523f19a",
   "metadata": {},
   "outputs": [
    {
     "name": "stdout",
     "output_type": "stream",
     "text": [
      "Enter a string:this is dheeredra\n",
      "thisisdheeredra\n"
     ]
    }
   ],
   "source": [
    "string=input(\"Enter a string:\")\n",
    "witout_space=string.replace(' ','')\n",
    "print(witout_space)"
   ]
  },
  {
   "cell_type": "code",
   "execution_count": null,
   "id": "aa980d72",
   "metadata": {},
   "outputs": [],
   "source": [
    "##end of the assignment##"
   ]
  }
 ],
 "metadata": {
  "kernelspec": {
   "display_name": "Python 3 (ipykernel)",
   "language": "python",
   "name": "python3"
  },
  "language_info": {
   "codemirror_mode": {
    "name": "ipython",
    "version": 3
   },
   "file_extension": ".py",
   "mimetype": "text/x-python",
   "name": "python",
   "nbconvert_exporter": "python",
   "pygments_lexer": "ipython3",
   "version": "3.9.12"
  }
 },
 "nbformat": 4,
 "nbformat_minor": 5
}
